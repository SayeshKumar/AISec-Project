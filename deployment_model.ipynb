{
 "cells": [
  {
   "cell_type": "code",
   "execution_count": 1,
   "id": "bd5feca7",
   "metadata": {},
   "outputs": [],
   "source": [
    "mkdir model"
   ]
  },
  {
   "cell_type": "code",
   "execution_count": 3,
   "id": "4d50dc30",
   "metadata": {},
   "outputs": [
    {
     "name": "stdout",
     "output_type": "stream",
     "text": [
      "download: s3://aicsproject/model_epoch_15_sayesh.tar.gz to extracted_model/model_epoch_15_sayesh.tar.gz\n"
     ]
    }
   ],
   "source": [
    "import os\n",
    "import tarfile\n",
    "\n",
    "# Specify the location to save the model artifact locally\n",
    "local_model_dir = \"extracted_model\"\n",
    "\n",
    "# Create the directory if it doesn't exist\n",
    "os.makedirs(local_model_dir, exist_ok=True)\n",
    "\n",
    "# Specify the S3 model artifact location\n",
    "s3_model_location = \"s3://aicsproject/model_epoch_15_sayesh.tar.gz\"\n",
    "\n",
    "# Download the model artifact from S3\n",
    "!aws s3 cp {s3_model_location} {local_model_dir}\n",
    "\n",
    "# Unzip the model artifact\n",
    "with tarfile.open(os.path.join(local_model_dir, \"model_epoch_15_sayesh.tar.gz\"), \"r:gz\") as tar:\n",
    "    tar.extractall(path=local_model_dir)\n",
    "\n",
    "# Now you have extracted the model artifact, you can proceed with deploying it\n"
   ]
  },
  {
   "cell_type": "code",
   "execution_count": 10,
   "id": "fbf38375",
   "metadata": {},
   "outputs": [],
   "source": [
    "# import necessary libraries\n",
    "import torch\n",
    "import torch.nn as nn\n",
    "import torch.optim as optim\n",
    "from torchvision import transforms\n",
    "from torchvision.models import resnet18\n",
    "from torch.utils.data import DataLoader, Dataset\n",
    "from PIL import Image\n",
    "import os"
   ]
  },
  {
   "cell_type": "code",
   "execution_count": 11,
   "id": "ae0d4c46",
   "metadata": {},
   "outputs": [],
   "source": [
    "\n",
    "# Define your PyTorch model\n",
    "class CustomModel(nn.Module):\n",
    "    def __init__(self):\n",
    "        super(CustomModel, self).__init__()\n",
    "        self.resnet = resnet18(pretrained=True)\n",
    "        self.fc = nn.Linear(1000, 2)  # Assuming binary classification\n",
    "\n",
    "    def forward(self, x):\n",
    "        x = self.resnet(x)\n",
    "        x = self.fc(x)\n",
    "        return x"
   ]
  },
  {
   "cell_type": "code",
   "execution_count": 12,
   "id": "d03fc002",
   "metadata": {},
   "outputs": [],
   "source": [
    "# Define a dataset class\n",
    "class CustomDataset(Dataset):\n",
    "    def __init__(self, data_dir, transform=None):\n",
    "        self.data_dir = data_dir\n",
    "        self.transform = transform\n",
    "        self.images = os.listdir(data_dir)\n",
    "\n",
    "    def __len__(self):\n",
    "        return len(self.images)\n",
    "\n",
    "    def __getitem__(self, idx):\n",
    "        img_name = os.path.join(self.data_dir, self.images[idx])\n",
    "        image = Image.open(img_name)\n",
    "        if self.transform:\n",
    "            image = self.transform(image)\n",
    "        return image"
   ]
  },
  {
   "cell_type": "code",
   "execution_count": null,
   "id": "68bffc42",
   "metadata": {},
   "outputs": [],
   "source": [
    "import tarfile\n",
    "\n",
    "# Extract the contents of the .tar.gz file\n",
    "with tarfile.open('/model/model_epoch_15_sayesh.tar.gz', 'r:gz') as tar:\n",
    "    tar.extractall('/home/ec2-user/Sagemaker/model/')  # Extract to the model directory\n",
    "\n",
    "# Load the model from the extracted file\n",
    "model = CustomModel()\n",
    "model_path = '/home/ec2-user/Sagemaker/model/model_epoch_15_sayesh.pth'  # Assuming the model file is model_epoch_15_sayesh.pth\n",
    "model.load_state_dict(torch.load(model_path))\n",
    "model.eval()\n"
   ]
  },
  {
   "cell_type": "code",
   "execution_count": null,
   "id": "e4a0abbc",
   "metadata": {},
   "outputs": [],
   "source": [
    "# Define a function to handle input and output serialization/deserialization\n",
    "def input_fn(serialized_input_data, content_type):\n",
    "    if content_type == 'image/jpeg':\n",
    "        input_data = Image.open(io.BytesIO(serialized_input_data))\n",
    "        input_data = transform(input_data)\n",
    "        return input_data\n",
    "    else:\n",
    "        raise ValueError(f'Unsupported content type: {content_type}')\n",
    "\n",
    "def output_fn(prediction_output, accept):\n",
    "    return str(prediction_output)"
   ]
  },
  {
   "cell_type": "code",
   "execution_count": null,
   "id": "c2274411",
   "metadata": {},
   "outputs": [],
   "source": [
    "# Deploy the model to SageMaker\n",
    "from sagemaker.pytorch import PyTorchModel\n",
    "\n",
    "pytorch_model = PyTorchModel(model_data='s3://aicsproject/model_epoch_15_sayesh.tar.gz',\n",
    "                              role=role,\n",
    "                              framework_version='1.7.1',\n",
    "                              entry_point='inference.py',\n",
    "                              source_dir='source_dir')  # Directory containing your inference script\n",
    "predictor = pytorch_model.deploy(instance_type='ml.t2.medium', initial_instance_count=1)"
   ]
  }
 ],
 "metadata": {
  "kernelspec": {
   "display_name": "conda_pytorch_p310",
   "language": "python",
   "name": "conda_pytorch_p310"
  },
  "language_info": {
   "codemirror_mode": {
    "name": "ipython",
    "version": 3
   },
   "file_extension": ".py",
   "mimetype": "text/x-python",
   "name": "python",
   "nbconvert_exporter": "python",
   "pygments_lexer": "ipython3",
   "version": "3.10.13"
  }
 },
 "nbformat": 4,
 "nbformat_minor": 5
}
